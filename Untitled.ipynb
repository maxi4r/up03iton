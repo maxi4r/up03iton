{
 "cells": [
  {
   "cell_type": "code",
   "execution_count": 2,
   "id": "3c503122",
   "metadata": {},
   "outputs": [],
   "source": [
    "import up03iton\n",
    "import imageio as io"
   ]
  },
  {
   "cell_type": "code",
   "execution_count": 3,
   "id": "f4274c41",
   "metadata": {},
   "outputs": [],
   "source": [
    "url = 'https://www.fau.de/files/2019/07/Kollegienhaus_Malter_3-480x284.jpg'\n",
    "img_imageio = io.imread(url) # Reading an image using imageio\n",
    "#plt.imshow(img_imageio)\n",
    "#plt.title('ImageIO')\n",
    "\n",
    "type(img_imageio)\n",
    "up03iton.imshow(img_imageio, resize=(100, 100))"
   ]
  }
 ],
 "metadata": {
  "kernelspec": {
   "display_name": "myvenv",
   "language": "python",
   "name": "myvenv"
  },
  "language_info": {
   "codemirror_mode": {
    "name": "ipython",
    "version": 3
   },
   "file_extension": ".py",
   "mimetype": "text/x-python",
   "name": "python",
   "nbconvert_exporter": "python",
   "pygments_lexer": "ipython3",
   "version": "3.7.11"
  }
 },
 "nbformat": 4,
 "nbformat_minor": 5
}
